{
 "cells": [
  {
   "cell_type": "code",
   "execution_count": 3,
   "id": "5dcbaf60-8fe7-45df-a132-c163e029b601",
   "metadata": {},
   "outputs": [
    {
     "name": "stdout",
     "output_type": "stream",
     "text": [
      "<class 'int'>\n",
      "<class 'float'>\n",
      "<class 'str'>\n",
      "3 and 15.8 are numbers\n",
      "False\n"
     ]
    },
    {
     "ename": "NameError",
     "evalue": "name 'Deer' is not defined",
     "output_type": "error",
     "traceback": [
      "\u001b[1;31m---------------------------------------------------------------------------\u001b[0m",
      "\u001b[1;31mNameError\u001b[0m                                 Traceback (most recent call last)",
      "Cell \u001b[1;32mIn[3], line 26\u001b[0m\n\u001b[0;32m     23\u001b[0m \u001b[38;5;28mprint\u001b[39m(outcome)\n\u001b[0;32m     25\u001b[0m \u001b[38;5;66;03m#5\u001b[39;00m\n\u001b[1;32m---> 26\u001b[0m First_name \u001b[38;5;241m=\u001b[39m \u001b[43mDeer\u001b[49m\n",
      "\u001b[1;31mNameError\u001b[0m: name 'Deer' is not defined"
     ]
    }
   ],
   "source": [
    "#1\n",
    "x = 3\n",
    "y = 15.8\n",
    "z = \"numbers\"\n",
    "print(type(x))\n",
    "print(type(y))\n",
    "print(type(z))\n",
    "\n",
    "#2\n",
    "float_int = int(y)\n",
    "int_str = str(x)\n",
    "str_bool = bool(z)\n",
    "\n",
    "#3\n",
    "print(f\"{x} and {y} are {z}\")\n",
    "\n",
    "#4\n",
    "a= \"games\"\n",
    "b= \"Games\"\n",
    "\n",
    "outcome = a==b\n",
    "\n",
    "print(outcome)\n",
    "\n",
    "#5\n",
    "First_name = Deer\n",
    "#Deer is not a string and therefore cannot be assigned to a variable, Deer is essentially a variable being assigned to another variable.\n"
   ]
  },
  {
   "cell_type": "code",
   "execution_count": 4,
   "id": "c804be9a-ea16-41be-9b1f-c2f6cedb6ef9",
   "metadata": {
    "scrolled": true
   },
   "outputs": [
    {
     "name": "stdout",
     "output_type": "stream",
     "text": [
      "0.20203050891044216\n",
      "25\n",
      "2.0654322413773943e-09\n",
      " The BMI is calculated to be 24.170242147568278\n",
      " The length of the side is 9.539392014169456\n",
      "The roots are 0.6666666666666666,-1.0\n",
      "40 degrees Celsius converts to 104.0 F\n",
      "80 miles per hour converts to 128.7472 km/hr\n"
     ]
    }
   ],
   "source": [
    "#1\n",
    "x = 2\n",
    "y = 3\n",
    "z = 4\n",
    "\n",
    "sqr_root = x ** 0.5 \n",
    "additive = y + z\n",
    "outcome1 = (sqr_root)/(additive)\n",
    "print(outcome1)\n",
    "\n",
    "additive_xysqr = (x+y)**2\n",
    "print(additive_xysqr)\n",
    "\n",
    "e = 2.718\n",
    "func = -2*x*(x+y)\n",
    "e_func = e**func\n",
    "print(e_func)\n",
    "\n",
    "#2\n",
    "mass_kg = 70\n",
    "height_inches = 67\n",
    "height_meters = height_inches*.0254\n",
    "BMI_calc = (mass_kg)/((height_meters)**2)\n",
    "print(f\" The BMI is calculated to be {BMI_calc}\")\n",
    "\n",
    "#3\n",
    "import math\n",
    "\n",
    "hyp = 10\n",
    "side_1 = 3\n",
    "side_2 = math.sqrt((hyp)**2 - (side_1)**2)\n",
    "print(f\" The length of the side is {side_2}\")\n",
    "\n",
    "#4\n",
    "a = 6\n",
    "b = 2\n",
    "c = -4\n",
    "\n",
    "equ_1 = math.sqrt(b**2 - 4*a*c)\n",
    "\n",
    "quad_equ1 = (-b + equ_1)/(2*a)\n",
    "quad_equ2 = (-b - equ_1)/(2*a)\n",
    "\n",
    "print(f\"The roots are {quad_equ1},{quad_equ2}\")\n",
    "\n",
    "#5\n",
    "Celsius_val = 40\n",
    "Farenheight_conv = (Celsius_val *(9/5)) + 32\n",
    "print(f\"40 degrees Celsius converts to {Farenheight_conv} F\")\n",
    "\n",
    "Miles_hour = 80\n",
    "Km_hour = Miles_hour*1.60934\n",
    "print(f\"80 miles per hour converts to {Km_hour} km/hr\")\n"
   ]
  },
  {
   "cell_type": "code",
   "execution_count": 5,
   "id": "99c98987-8dfc-41cc-8fd9-f7f2c0213545",
   "metadata": {
    "scrolled": true
   },
   "outputs": [
    {
     "name": "stdout",
     "output_type": "stream",
     "text": [
      "Root: 1.65063\n"
     ]
    }
   ],
   "source": [
    "#1\n",
    "import math\n",
    "\n",
    "def f(x):\n",
    "    return x**3 - 2*x**2 + 3*x - 4\n",
    "\n",
    "def f_deriv(x):\n",
    "    return 3*x**2 - 4*x + 3\n",
    "\n",
    "def newton(xn, iter=50, tol=1e-6):\n",
    "    x = xn  \n",
    "\n",
    "    for _ in range(iter):\n",
    "        fx = f(x)\n",
    "        f_prime_x = f_deriv(x)\n",
    "\n",
    "        if abs(fx) < tol: \n",
    "            return round(x, 5)\n",
    "\n",
    "        if f_prime_x == 0:  \n",
    "            raise ValueError\n",
    "\n",
    "        x = x - fx / f_prime_x  \n",
    "\n",
    "    return round(x, 5)  \n",
    "\n",
    "# Test with an initial guess\n",
    "x0 = 2\n",
    "root = newton(x0)\n",
    "print(\"Root:\", root)\n",
    "\n",
    "\n"
   ]
  },
  {
   "cell_type": "code",
   "execution_count": null,
   "id": "35aa2172-c9f7-4bba-97ac-df0bc0f9d139",
   "metadata": {},
   "outputs": [
    {
     "name": "stdout",
     "output_type": "stream",
     "text": [
      "Guess a number between 1 and 99\n"
     ]
    }
   ],
   "source": [
    "#1\n",
    "import random\n",
    "\n",
    "def game():\n",
    "    answer = random.randint(1, 99)\n",
    "    min, max = 1, 99  \n",
    "\n",
    "    print(f\"Guess a number between {min} and {max}\")\n",
    "\n",
    "    while True:\n",
    "        try:\n",
    "            guess = int(input(f\"Enter your guess ({min}-{max}): \"))\n",
    "\n",
    "            if guess < min or guess > max:\n",
    "                print(\"Out of range.\")\n",
    "                continue\n",
    "\n",
    "            if guess > answer:\n",
    "                max = guess  \n",
    "                print(f\" Try between {min}-{max}\")\n",
    "            elif guess < answer:\n",
    "                min = guess  \n",
    "                print(f\" Try between {min}-{max}\")\n",
    "            else:\n",
    "                print(f\" Correct! The answer is {answer}\")\n",
    "                break  #\n",
    "\n",
    "        except ValueError:\n",
    "            print(\"Please enter an integer.\")\n",
    "\n",
    "# Run the game\n",
    "game()\n",
    "     \n"
   ]
  },
  {
   "cell_type": "code",
   "execution_count": null,
   "id": "e7f87ba0-b9b3-4e36-9d43-6a634c555ee5",
   "metadata": {},
   "outputs": [],
   "source": []
  }
 ],
 "metadata": {
  "kernelspec": {
   "display_name": "base",
   "language": "python",
   "name": "base"
  },
  "language_info": {
   "codemirror_mode": {
    "name": "ipython",
    "version": 3
   },
   "file_extension": ".py",
   "mimetype": "text/x-python",
   "name": "python",
   "nbconvert_exporter": "python",
   "pygments_lexer": "ipython3",
   "version": "3.9.21"
  }
 },
 "nbformat": 4,
 "nbformat_minor": 5
}
